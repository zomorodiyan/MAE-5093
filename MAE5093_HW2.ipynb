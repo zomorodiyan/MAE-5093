{
  "nbformat": 4,
  "nbformat_minor": 0,
  "metadata": {
    "colab": {
      "name": "MAE5093_HW2.ipynb",
      "provenance": [],
      "collapsed_sections": [],
      "authorship_tag": "ABX9TyMwqo4fgksQxyVVCSBLCjh9",
      "include_colab_link": true
    },
    "kernelspec": {
      "name": "python3",
      "display_name": "Python 3"
    },
    "language_info": {
      "name": "python"
    }
  },
  "cells": [
    {
      "cell_type": "markdown",
      "metadata": {
        "id": "view-in-github",
        "colab_type": "text"
      },
      "source": [
        "<a href=\"https://colab.research.google.com/github/zomorodiyan/MAE-5093/blob/main/MAE5093_HW2.ipynb\" target=\"_parent\"><img src=\"https://colab.research.google.com/assets/colab-badge.svg\" alt=\"Open In Colab\"/></a>"
      ]
    },
    {
      "cell_type": "markdown",
      "metadata": {
        "id": "FKcLe3WbvGEp"
      },
      "source": [
        "**Homework 2** of the course **MAE-5093** Fall 2021, questions **2, 3, 4, 6, 8** from **Fundamentals of Engineering Numerical Analysis** Second Edition"
      ]
    },
    {
      "cell_type": "markdown",
      "metadata": {
        "id": "Q_PF3Vu_wEQW"
      },
      "source": [
        "<h2>by Mehrdad Zomorodiyan<h2>"
      ]
    },
    {
      "cell_type": "markdown",
      "metadata": {
        "id": "H9aBeoAJwxV9"
      },
      "source": [
        "link to the questions: https://drive.google.com/file/d/1mAihH4eMKmAP0l-MJe6PEcs0h91mNRYa/view?usp=sharing "
      ]
    },
    {
      "cell_type": "code",
      "metadata": {
        "id": "u44xOQQTKkyv",
        "cellView": "form"
      },
      "source": [
        "#@title Setup\n",
        "#!pip install sympy\n",
        "from sympy import symbols, diff, poly, Function, factorial, Matrix, zeros\n",
        "import numpy as np\n",
        "x, h, a, b = symbols('x, h, a, b')\n",
        "a1, a2, a3, a4, a5, a6 = symbols('a1, a2, a3, a4, a5, a6')                      \n",
        "f = Function('f')"
      ],
      "execution_count": null,
      "outputs": []
    },
    {
      "cell_type": "code",
      "metadata": {
        "id": "so5Yg8fl0mFc",
        "cellView": "form"
      },
      "source": [
        "#@title define tay\n",
        "#define tay(j,k) that returns taylor_expansion, j:distance from x, k:number of terms from taylor serie\n",
        "def tay(j,k): return sum((h*j)**i/factorial(i)*f(x).diff(x, i) for i in range(abs(k)))"
      ],
      "execution_count": null,
      "outputs": []
    },
    {
      "cell_type": "code",
      "metadata": {
        "id": "_h4mP1Ny3iB4",
        "cellView": "form"
      },
      "source": [
        "#@title two tests for tay\n",
        "import unittest\n",
        "class TestTaylor(unittest.TestCase):\n",
        "    def test_2terms(self):\n",
        "        '''Test case function for first 2 terms of taylor series for f(x+1)'''\n",
        "        result = tay(1,2)\n",
        "        expected = f(x) + h*f(x).diff(x,1)\n",
        "        self.assertEqual(result, expected)\n",
        "    def test_3terms(self):\n",
        "        '''Test case function for first 3 terms of taylor series for f(x-2)'''\n",
        "        result = tay(-2,3)\n",
        "        expected = f(x) - 2*h*f(x).diff(x,1) + 2*h**2*f(x).diff(x,2)\n",
        "        self.assertEqual(result, expected)\n"
      ],
      "execution_count": null,
      "outputs": []
    },
    {
      "cell_type": "code",
      "metadata": {
        "id": "JVLbZN_AD71G",
        "cellView": "form"
      },
      "source": [
        "#@title define equation (helper method for disceritize)\n",
        "def equation(vars,order,coeffs,coeffs2,orders\\\n",
        "        ,x=symbols('x'),h=symbols('h'),f=Function('f')):\n",
        "    return sum( vars[i]*tay(coeffs[i],order).diff(x,orders[i])*coeffs2[i]\\\n",
        "            for i in range(len(vars)) )"
      ],
      "execution_count": null,
      "outputs": []
    },
    {
      "cell_type": "code",
      "metadata": {
        "id": "BsoNj-2oDDdM"
      },
      "source": [
        "#@title define discretize\n",
        "# gets a set of coeficient(vars),number of terms for taylor expansions(order),\n",
        "#   distance from the refrence point for each term (coeffs) also known\n",
        "#   coeficients for each(coeffs2), order of derivetive for each term(orders)\n",
        "# returns the solution for the unknowns in vars\n",
        "def discretize(vars,nvars,coeffs,coeffs2,orders\\\n",
        "        ,x=symbols('x'),h=symbols('h'),f=Function('f')):\n",
        "    mat1 = zeros(nvars,nvars)\n",
        "    mat2 = zeros(nvars,1)\n",
        "    order=nvars-1 #start here, will go higher if some equations are always-true\n",
        "    eq_count = 0\n",
        "    while(eq_count < nvars):\n",
        "        eq_count = 0\n",
        "        eq = equation(vars,order,coeffs,coeffs2,orders)\n",
        "        for i in range(order):\n",
        "            p = poly(eq,[f(x).diff(x,i)]); c = p.coeffs()[0]\n",
        "            mat2[i,0] = -c\n",
        "            nonzero=False\n",
        "            for j in range(nvars):\n",
        "                C = poly(c,[vars[j]]).coeffs()\n",
        "                if len(C)==2:\n",
        "                    mat1[eq_count,j] = C[0]\n",
        "                    mat2[eq_count,0] += C[0]*vars[j]\n",
        "                    nonzero=True\n",
        "            if nonzero:\n",
        "                eq_count += 1\n",
        "        if eq_count < nvars:\n",
        "            #print('order',order,'is not enough; go higher')\n",
        "            order += 1\n",
        "    return (mat1.inv()*mat2)[:,0]"
      ],
      "execution_count": null,
      "outputs": []
    },
    {
      "cell_type": "code",
      "metadata": {
        "id": "CDOE6QrlHymA",
        "cellView": "form"
      },
      "source": [
        "#@title test for discretize: $\\frac{du}{dx}|_j= \\frac{1}{2h}(a_1 u_{j}+a_2 u_{j+1}+a_3 u_{j+2})+O(h^n)$ $∴[a_1,a_2,a_3]=[-3,4,-1]$\n",
        "class TestDiscretize(unittest.TestCase):\n",
        "    def test_eq21(self):\n",
        "        vars = Matrix([a1,a2,a3,1]); nvars = len(vars)-1 #n of unknowns\n",
        "        coeffs=[0,1,2,0]\n",
        "        coeffs2=[1/2/h,1/2/h,1/2/h,-1]\n",
        "        orders=[0,0,0,1]\n",
        "        result = discretize(vars,nvars,coeffs,coeffs2,orders)\n",
        "        expected = Matrix([[-3],[4],[-1]])\n",
        "        self.assertEqual(result, expected)\n"
      ],
      "execution_count": null,
      "outputs": []
    },
    {
      "cell_type": "code",
      "metadata": {
        "colab": {
          "base_uri": "https://localhost:8080/"
        },
        "id": "KCVTAUUy4Y9r",
        "cellView": "form",
        "outputId": "1049dcfd-8d86-467c-a52b-a48002d43bf7"
      },
      "source": [
        "#@title run tests\n",
        "unittest.main(argv=[''], verbosity=1, exit=False)"
      ],
      "execution_count": null,
      "outputs": [
        {
          "output_type": "stream",
          "name": "stderr",
          "text": [
            "...\n",
            "----------------------------------------------------------------------\n",
            "Ran 3 tests in 0.741s\n",
            "\n",
            "OK\n"
          ]
        },
        {
          "output_type": "execute_result",
          "data": {
            "text/plain": [
              "<unittest.main.TestProgram at 0x7f984d6e4e10>"
            ]
          },
          "metadata": {},
          "execution_count": 7
        }
      ]
    },
    {
      "cell_type": "markdown",
      "metadata": {
        "id": "8LqacnQvvStL"
      },
      "source": [
        "### **Question 2**"
      ]
    },
    {
      "cell_type": "code",
      "metadata": {
        "cellView": "form",
        "id": "Bdtf104_X6qV"
      },
      "source": [
        "#@title define variables of $\\frac{du}{dx}|_j= \\frac{1}{h}(a_1 u_{j-1}+a_2 u_{j}+a_3 u_{j+1}+a_4 u_{j+2})+O(h^n)$\n",
        "vars = Matrix([a1,a2,a3,a4,1]); nvars = len(vars)-1 #n of unknowns\n",
        "coeffs=[-1,0,1,2,0]\n",
        "coeffs2=[1/h,1/h,1/h,1/h,-1]\n",
        "orders=[0,0,0,0,1]"
      ],
      "execution_count": null,
      "outputs": []
    },
    {
      "cell_type": "code",
      "metadata": {
        "id": "nii-vl3evAao",
        "colab": {
          "base_uri": "https://localhost:8080/"
        },
        "cellView": "form",
        "outputId": "1fea48b1-4b6a-4af5-a5bb-78aa0d9faa49"
      },
      "source": [
        "#@title calculate $result =[a_1,a_2,a_3,a_4]$ , form the equation, show  $lhs - rhs$\n",
        "result = discretize(vars,nvars,coeffs,coeffs2,orders)\n",
        "num = 6\n",
        "eq = f(x).diff(x,1) - equation(result,num,coeffs,coeffs2,orders) \n",
        "for i in range(num):\n",
        "  p = poly(eq,[f(x).diff(x,i)]); c = p.coeffs()\n",
        "  print(0 if len(c)==1 else c[0],\"f\"+\"'\"*i, end=' + ')\n"
      ],
      "execution_count": null,
      "outputs": [
        {
          "output_type": "stream",
          "name": "stdout",
          "text": [
            "0 f + 0 f' + 0 f'' + 0 f''' + h**3/12 f'''' + h**4/30 f''''' + "
          ]
        }
      ]
    },
    {
      "cell_type": "markdown",
      "metadata": {
        "id": "U-uEENrNcAG0"
      },
      "source": [
        "the leading error term is $\\frac{h^3}{12}f''''_{xi}$ so the **order is $3$**"
      ]
    },
    {
      "cell_type": "markdown",
      "metadata": {
        "id": "5TPqyosJdUEk"
      },
      "source": [
        "### **Question 3**"
      ]
    },
    {
      "cell_type": "markdown",
      "metadata": {
        "id": "GQdepD53f5n7"
      },
      "source": [
        "the fourth-order pade scheme: $f'_{i-1}+f'_{i}+4f'_{i+1} = \\frac{3}{h}(f_{i+1}-f_{i-1})$\n",
        "\n",
        "$f_i = e^{ikx_i}⇒ik'(e^{ik(x_i-h)}+4e^{ikx_i}+e^{ik(x_i+h)}) = \\frac{3}{h}(e^{ik(x_i+h)}-e^{ik(x_i-h)})$\n",
        "\n",
        "$⇒ik'(e^{-ikh}+4+e^{ikh}) = \\frac{3}{h}(e^{ikh}-e^{-ikh})$\n",
        "\n",
        "$⇒ ik'(4+2cos(kh))=\\frac{3}{h}(2i sin(kh))$\n",
        "\n",
        "$⇒ k'=\\frac{3sin(kh)}{h(2+cos(kh))}$"
      ]
    },
    {
      "cell_type": "markdown",
      "metadata": {
        "id": "6O9f555MzMAE"
      },
      "source": [
        "### **Question 4**"
      ]
    },
    {
      "cell_type": "code",
      "metadata": {
        "cellView": "form",
        "id": "xZNoLmu9zXse"
      },
      "source": [
        "#@title define variables according to the equation \n",
        "vars = Matrix([a1,a2,a3,a4,1,1]); nvars = len(vars)-2 #n of unknowns\n",
        "coeffs=[0,1,2,3,0,1]\n",
        "coeffs2=[1/h,1/h,1/h,1/h,-1,-a]\n",
        "orders=[0,0,0,0,1,1]"
      ],
      "execution_count": null,
      "outputs": []
    },
    {
      "cell_type": "markdown",
      "metadata": {
        "id": "vmXG_ZPgzQDD"
      },
      "source": [
        "<h3>4-a<h3>"
      ]
    },
    {
      "cell_type": "code",
      "metadata": {
        "colab": {
          "base_uri": "https://localhost:8080/"
        },
        "cellView": "form",
        "id": "9vhiI1xN0a69",
        "outputId": "04850ac2-64a0-4910-a654-fece265169f6"
      },
      "source": [
        "#@title calculate $result =[a,b,c,d]$ , form the equation, show  $lhs - rhs$\n",
        "result = discretize(vars,nvars,coeffs,coeffs2,orders)\n",
        "print('[a,b,c,d]=',result)\n",
        "num = 6\n",
        "eq = f(x).diff(x,1) + a*tay(1,num).diff(x,1) - equation(result,num,coeffs,coeffs2,orders) \n",
        "for i in range(num):\n",
        "  p = poly(eq,[f(x).diff(x,i)]); c = p.coeffs()\n",
        "  print(0 if len(c)==1 else c[0],\"f\"+\"'\"*i, end=' + ')\n"
      ],
      "execution_count": null,
      "outputs": [
        {
          "output_type": "stream",
          "name": "stdout",
          "text": [
            "[a,b,c,d]= Matrix([[-a/3 - 11/6], [3 - a/2], [a - 3/2], [1/3 - a/6]])\n",
            "0 f + 0 f' + 0 f'' + 0 f''' + a*h**3/12 - h**3/4 f'''' + 7*a*h**4/60 - 3*h**4/10 f''''' + "
          ]
        }
      ]
    },
    {
      "cell_type": "markdown",
      "metadata": {
        "id": "IcL3esEL1sGH"
      },
      "source": [
        "$\\alpha=9$ would makes leading error term, $\\frac{\\alpha-9}{12}f''''_{xi}$ zero consequently the order of accuracy will be four"
      ]
    },
    {
      "cell_type": "markdown",
      "metadata": {
        "id": "QO2zTq8H2fbN"
      },
      "source": [
        "<h3>4-b<h3>"
      ]
    },
    {
      "cell_type": "code",
      "metadata": {
        "colab": {
          "base_uri": "https://localhost:8080/"
        },
        "cellView": "form",
        "id": "21XOxQX23AvT",
        "outputId": "377ee7a1-c665-4928-bea8-f60f498af8bb"
      },
      "source": [
        "#@title substitude $\\alpha$ with 9 as we concluded in 4-a\n",
        "resultsub = result.subs(a,9)\n",
        "print('[a,b,c,d]=',resultsub)"
      ],
      "execution_count": null,
      "outputs": [
        {
          "output_type": "stream",
          "name": "stdout",
          "text": [
            "[a,b,c,d]= Matrix([[-29/6], [-3/2], [15/2], [-7/6]])\n"
          ]
        }
      ]
    },
    {
      "cell_type": "markdown",
      "metadata": {
        "id": "bZnqUHJ7712d"
      },
      "source": [
        "### **Question 6**"
      ]
    },
    {
      "cell_type": "markdown",
      "metadata": {
        "id": "js7nNbimGhmq"
      },
      "source": [
        "<h3> 6-a <h3>"
      ]
    },
    {
      "cell_type": "markdown",
      "metadata": {
        "id": "aT85uPso8Dhs"
      },
      "source": [
        "central difference scheme: $f''_{j} = \\frac{f_{j+1}-2f_{j} +f_{j-1}}{h^2}$\n",
        "\n",
        "$f_i = e^{ikx_i}⇒ -k'^2f_j = \\frac{f_{j}(e^{ikh}-2 +e^{-ikh})}{h^2}$\n",
        "\n",
        "$⇒ k'^2h^2 = -2(cos(kh)-1)$\n",
        "\n",
        "\n",
        "\n"
      ]
    },
    {
      "cell_type": "code",
      "metadata": {
        "colab": {
          "base_uri": "https://localhost:8080/",
          "height": 297
        },
        "cellView": "form",
        "id": "ixRM79z1-h8S",
        "outputId": "8192d5c3-cc9a-4709-dce6-d2acc5ecbda4"
      },
      "source": [
        "#@title plot\n",
        "import matplotlib.pyplot as plt\n",
        "kh = np.linspace(0,3.1415,100)\n",
        "kh2 = kh**2\n",
        "kph2 = -2*(-1+np.cos(kh))\n",
        "plt.plot(kh,kh2)\n",
        "plt.plot(kh,kph2)\n",
        "plt.style.use('seaborn-whitegrid')\n",
        "plt.xlabel(\"kh\")\n",
        "plt.legend([\"$k^2h^2$\",\"$k'^2h^2$\"], prop={\"size\":20})"
      ],
      "execution_count": null,
      "outputs": [
        {
          "output_type": "execute_result",
          "data": {
            "text/plain": [
              "<matplotlib.legend.Legend at 0x7f984d1a2850>"
            ]
          },
          "metadata": {},
          "execution_count": 13
        },
        {
          "output_type": "display_data",
          "data": {
            "image/png": "[encoded data removed]",
            "text/plain": [
              "<Figure size 432x288 with 1 Axes>"
            ]
          },
          "metadata": {
            "needs_background": "light"
          }
        }
      ]
    },
    {
      "cell_type": "markdown",
      "metadata": {
        "id": "va41ibX7G0ct"
      },
      "source": [
        "<h3> 6-b <h3>"
      ]
    },
    {
      "cell_type": "code",
      "metadata": {
        "cellView": "form",
        "id": "sW6bVAkkG8Xv"
      },
      "source": [
        "#@title define variables according to the equation \n",
        "vars = Matrix([1,-2,1,1,1,1]); nvars = len(vars)-2 #n of unknowns\n",
        "coeffs=[-1,0,1,-1,0,1]\n",
        "coeffs2=[1/h**2,1/h**2,1/h**2,-1/12,-10/12,-1/12]\n",
        "orders=[0,0,0,2,2,2]"
      ],
      "execution_count": null,
      "outputs": []
    },
    {
      "cell_type": "code",
      "metadata": {
        "colab": {
          "base_uri": "https://localhost:8080/"
        },
        "cellView": "form",
        "id": "lV3Ol8WtG-hR",
        "outputId": "410991a2-8c3b-48cd-b9ce-aaba82ad334b"
      },
      "source": [
        "#@title form the equation, show  $lhs - rhs$\n",
        "num = 7\n",
        "eq = equation(vars,num,coeffs,coeffs2,orders) \n",
        "for i in range(num):\n",
        "  p = poly(eq,[f(x).diff(x,i)]); c = p.coeffs()\n",
        "  print(0 if len(c)==1 else c[0],\"f\"+\"'\"*i, end=' + ')\n"
      ],
      "execution_count": null,
      "outputs": [
        {
          "output_type": "stream",
          "name": "stdout",
          "text": [
            "0 f + 0 f' + 0 f'' + 0 f''' + 0 f'''' + 0 f''''' + -0.00416666666666667*h**4 f'''''' + "
          ]
        }
      ]
    },
    {
      "cell_type": "markdown",
      "metadata": {
        "id": "_gfyEWOfIbiX"
      },
      "source": [
        "the leading error term is $\\frac{25h^{4}}{6000}f''''_{xi}$ so the **order is $4$**"
      ]
    },
    {
      "cell_type": "markdown",
      "metadata": {
        "id": "TjPqeEFAOm1a"
      },
      "source": [
        "<h3> 6-c <h3>"
      ]
    },
    {
      "cell_type": "markdown",
      "metadata": {
        "id": "TADJNjPfJPXd"
      },
      "source": [
        "the fourth-order pade scheme: $\\frac{1}{12}f''_{i-1}+\\frac{10}{12}f''_{i}+\\frac{1}{12}f'_{i+1} = \\frac{f_{i+1}-2f_i+f_{i-1}}{h^2}$\n",
        "\n",
        "$f_i = e^{ikx_i}⇒-k'^2(\\frac{1}{12}e^{-ikh}+\\frac{10}{12}+\\frac{1}{12}e^{ikh})f_i = (\\frac{e^{ikh}-2+e^{-ikh}}{h^2})f_i$\n",
        "\n",
        "$⇒ -k'^2(\\frac{2}{12}cos(kh)+\\frac{10}{12}) = \\frac{2cos(kh)-2}{h^2}$\n",
        "\n",
        "$⇒ k'^2h^2 = \\frac{1-cos(kh)}{\\frac{1}{12}cos(kh)+\\frac{5}{12}}$"
      ]
    },
    {
      "cell_type": "code",
      "metadata": {
        "colab": {
          "base_uri": "https://localhost:8080/",
          "height": 295
        },
        "cellView": "form",
        "id": "baXSkU-lMJoJ",
        "outputId": "3da2b476-19e4-4fb3-bf5d-5a1455aad3c3"
      },
      "source": [
        "#@title plot\n",
        "import matplotlib.pyplot as plt\n",
        "kh = np.linspace(0,3.1415,100)\n",
        "kh2 = kh**2\n",
        "kph2pade = (1-np.cos(kh))/(1/12*np.cos(kh)+5/12)\n",
        "kph2central = -2*(-1+np.cos(kh))\n",
        "plt.plot(kh,kh2)\n",
        "plt.plot(kh,kph2pade)\n",
        "plt.plot(kh,kph2central)\n",
        "plt.style.use('seaborn-whitegrid')\n",
        "plt.xlabel(\"kh\")\n",
        "plt.legend([\"$k^2h^2$\",\"$k'^2h^2$ pade 4th\",\"$k'^2h^2$ central\"], prop={\"size\":20})"
      ],
      "execution_count": null,
      "outputs": [
        {
          "output_type": "execute_result",
          "data": {
            "text/plain": [
              "<matplotlib.legend.Legend at 0x7f984cc95990>"
            ]
          },
          "metadata": {},
          "execution_count": 17
        },
        {
          "output_type": "display_data",
          "data": {
            "image/png": "[encoded data removed]",
            "text/plain": [
              "<Figure size 432x288 with 1 Axes>"
            ]
          },
          "metadata": {}
        }
      ]
    },
    {
      "cell_type": "markdown",
      "metadata": {
        "id": "H3NDfGRkPCwB"
      },
      "source": [
        "<h3> 6-d <h3>"
      ]
    },
    {
      "cell_type": "markdown",
      "metadata": {
        "id": "pk6D9LwMTnYZ"
      },
      "source": [
        "$ k'^2h^2 = \\frac{1-cos(kh)}{\\frac{1}{12}cos(kh)+\\frac{5}{12}}$\n",
        "\n",
        "$ cos(x) = 1-\\frac{x^2}{2}+\\frac{x^4}{24}+O(x^6) ⇒ k'^2h^2 = \\frac{\\frac{k^2h^2}{2}-\\frac{k^4h^4}{24}+O(k^6h^6)}{\\frac{1}{2}-\\frac{k^2h^2}{24}+O(K^4h^4)}$\n",
        "\n",
        "$ ∴ k'^2h^2 - k^2h^2 = \\frac{O(k^6h^6)}{\\frac{1}{2}-\\frac{k^2h^2}{24}+O(K^4h^4)}= O(k^6h^6)$\n",
        "\n",
        "$k'^2h^2 = \\frac{\\frac{k^2h^2}{2}-\\frac{k^4h^4}{24}+O(k^6h^6)}{\\frac{1}{2}-\\frac{k^2h^2}{24}+O(K^4h^4)} ⇒ \\lim_{kh\\to0} k'^2h^2 = k^2h^2$ \n",
        "\n",
        "$∴\\lim_{kh\\to0} \\frac{k'^2h^2}{k^2h^2} = \\frac{k^2h^2}{k^2h^2} = 1 $\n",
        "\n",
        "\n"
      ]
    },
    {
      "cell_type": "markdown",
      "metadata": {
        "id": "mETHWOEZbaWv"
      },
      "source": [
        "### **Question 8**"
      ]
    },
    {
      "cell_type": "markdown",
      "metadata": {
        "id": "P4eH7DXacDAd"
      },
      "source": [
        "<h3> 8-a <h3>"
      ]
    },
    {
      "cell_type": "markdown",
      "metadata": {
        "id": "BgqJXZJlcGya"
      },
      "source": [
        "<h3> 8-b <h3>"
      ]
    }
  ]
}