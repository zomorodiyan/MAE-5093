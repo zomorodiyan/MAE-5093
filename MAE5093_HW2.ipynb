{
  "nbformat": 4,
  "nbformat_minor": 0,
  "metadata": {
    "colab": {
      "name": "MAE5093_HW2.ipynb",
      "provenance": [],
      "collapsed_sections": [],
      "authorship_tag": "ABX9TyMMeBA+lcaqpiIwugE3b1+H",
      "include_colab_link": true
    },
    "kernelspec": {
      "name": "python3",
      "display_name": "Python 3"
    },
    "language_info": {
      "name": "python"
    }
  },
  "cells": [
    {
      "cell_type": "markdown",
      "metadata": {
        "id": "view-in-github",
        "colab_type": "text"
      },
      "source": [
        "<a href=\"https://colab.research.google.com/github/zomorodiyan/MAE-5093/blob/main/MAE5093_HW2.ipynb\" target=\"_parent\"><img src=\"https://colab.research.google.com/assets/colab-badge.svg\" alt=\"Open In Colab\"/></a>"
      ]
    },
    {
      "cell_type": "markdown",
      "metadata": {
        "id": "FKcLe3WbvGEp"
      },
      "source": [
        "**Homework 2** of the course **MAE-5093** Fall 2021, questions **2, 3, 4, 6, 8** from **Fundamentals of Engineering Numerical Analysis** Second Edition"
      ]
    },
    {
      "cell_type": "markdown",
      "metadata": {
        "id": "Q_PF3Vu_wEQW"
      },
      "source": [
        "<h2>by Mehrdad Zomorodiyan<h2>"
      ]
    },
    {
      "cell_type": "markdown",
      "metadata": {
        "id": "H9aBeoAJwxV9"
      },
      "source": [
        "link to the questions: https://drive.google.com/file/d/1mAihH4eMKmAP0l-MJe6PEcs0h91mNRYa/view?usp=sharing "
      ]
    },
    {
      "cell_type": "code",
      "metadata": {
        "id": "u44xOQQTKkyv"
      },
      "source": [
        "#@title Setup\n",
        "#!pip install sympy\n",
        "from sympy import symbols, diff, poly, Function, factorial, Matrix, zeros\n",
        "import numpy as np\n",
        "x, h, a, b = symbols('x, h, a, b')\n",
        "a1, a2, a3, a4, a5, a6 = symbols('a1, a2, a3, a4, a5, a6')                      \n",
        "f = Function('f')"
      ],
      "execution_count": 384,
      "outputs": []
    },
    {
      "cell_type": "code",
      "metadata": {
        "id": "so5Yg8fl0mFc"
      },
      "source": [
        "#@title define tay\n",
        "#define tay(j,k) that returns taylor_expansion, j:distance from x, k:number of terms from taylor serie\n",
        "def tay(j,k): return sum((h*j)**i/factorial(i)*f(x).diff(x, i) for i in range(abs(k)))"
      ],
      "execution_count": 385,
      "outputs": []
    },
    {
      "cell_type": "code",
      "metadata": {
        "id": "_h4mP1Ny3iB4"
      },
      "source": [
        "#@title two tests for tay\n",
        "import unittest\n",
        "class TestTaylor(unittest.TestCase):\n",
        "    def test_2terms(self):\n",
        "        '''Test case function for first 2 terms of taylor series for f(x+1)'''\n",
        "        result = tay(1,2)\n",
        "        expected = f(x) + h*f(x).diff(x,1)\n",
        "        self.assertEqual(result, expected)\n",
        "    def test_3terms(self):\n",
        "        '''Test case function for first 3 terms of taylor series for f(x-2)'''\n",
        "        result = tay(-2,3)\n",
        "        expected = f(x) - 2*h*f(x).diff(x,1) + 2*h**2*f(x).diff(x,2)\n",
        "        self.assertEqual(result, expected)\n"
      ],
      "execution_count": 386,
      "outputs": []
    },
    {
      "cell_type": "code",
      "metadata": {
        "id": "JVLbZN_AD71G"
      },
      "source": [
        "#@title define equation (helper method for disceritize)\n",
        "def equation(vars,order,coeffs,coeffs2,orders\\\n",
        "        ,x=symbols('x'),h=symbols('h'),f=Function('f')):\n",
        "    return sum( vars[i]*tay(coeffs[i],order).diff(x,orders[i])*coeffs2[i]\\\n",
        "            for i in range(len(vars)) )"
      ],
      "execution_count": 387,
      "outputs": []
    },
    {
      "cell_type": "code",
      "metadata": {
        "id": "BsoNj-2oDDdM"
      },
      "source": [
        "#@title define discretize\n",
        "# gets a set of coeficient(vars),number of terms for taylor expansions(order),\n",
        "#   distance from the refrence point for each term (coeffs) also known\n",
        "#   coeficients for each(coeffs2), order of derivetive for each term(orders)\n",
        "# returns the solution for the unknowns in vars\n",
        "def discretize(vars,nvars,coeffs,coeffs2,orders\\\n",
        "        ,x=symbols('x'),h=symbols('h'),f=Function('f')):\n",
        "    mat1 = zeros(nvars,nvars)\n",
        "    mat2 = zeros(nvars,1)\n",
        "    order=nvars-1 #start here, will go higher if some equations are always-true\n",
        "    eq_count = 0\n",
        "    while(eq_count < nvars):\n",
        "        eq_count = 0\n",
        "        eq = equation(vars,order,coeffs,coeffs2,orders)\n",
        "        for i in range(order):\n",
        "            p = poly(eq,[f(x).diff(x,i)]); c = p.coeffs()[0]\n",
        "            mat2[i,0] = -c\n",
        "            nonzero=False\n",
        "            for j in range(nvars):\n",
        "                C = poly(c,[vars[j]]).coeffs()\n",
        "                if len(C)==2:\n",
        "                    mat1[eq_count,j] = C[0]\n",
        "                    mat2[eq_count,0] += C[0]*vars[j]\n",
        "                    nonzero=True\n",
        "            if nonzero:\n",
        "                eq_count += 1\n",
        "        if eq_count < nvars:\n",
        "            #print('order',order,'is not enough; go higher')\n",
        "            order += 1\n",
        "    return (mat1.inv()*mat2)[:,0]"
      ],
      "execution_count": 388,
      "outputs": []
    },
    {
      "cell_type": "code",
      "metadata": {
        "id": "CDOE6QrlHymA"
      },
      "source": [
        "#@title test for discretize: $\\frac{du}{dx}|_j= \\frac{1}{2h}(a_1 u_{j}+a_2 u_{j+1}+a_3 u_{j+2})+O(h^n)$ $∴[a_1,a_2,a_3]=[-3,4,-1]$\n",
        "class TestDiscretize(unittest.TestCase):\n",
        "    def test_eq21(self):\n",
        "        vars = Matrix([a1,a2,a3,1]); nvars = len(vars)-1 #n of unknowns\n",
        "        coeffs=[0,1,2,0]\n",
        "        coeffs2=[1/2/h,1/2/h,1/2/h,-1]\n",
        "        orders=[0,0,0,1]\n",
        "        result = discretize(vars,nvars,coeffs,coeffs2,orders)\n",
        "        expected = Matrix([[-3],[4],[-1]])\n",
        "        self.assertEqual(result, expected)\n"
      ],
      "execution_count": 389,
      "outputs": []
    },
    {
      "cell_type": "code",
      "metadata": {
        "colab": {
          "base_uri": "https://localhost:8080/"
        },
        "id": "KCVTAUUy4Y9r",
        "outputId": "cddb502f-2c64-4cd4-bec8-e34d3f8be190"
      },
      "source": [
        "#@title run tests\n",
        "unittest.main(argv=[''], verbosity=1, exit=False)"
      ],
      "execution_count": 390,
      "outputs": [
        {
          "output_type": "stream",
          "name": "stderr",
          "text": [
            "...\n",
            "----------------------------------------------------------------------\n",
            "Ran 3 tests in 0.320s\n",
            "\n",
            "OK\n"
          ]
        },
        {
          "output_type": "execute_result",
          "data": {
            "text/plain": [
              "<unittest.main.TestProgram at 0x7fc28fa18550>"
            ]
          },
          "metadata": {},
          "execution_count": 390
        }
      ]
    },
    {
      "cell_type": "markdown",
      "metadata": {
        "id": "8LqacnQvvStL"
      },
      "source": [
        "### **Question 2**"
      ]
    },
    {
      "cell_type": "code",
      "metadata": {
        "id": "Bdtf104_X6qV"
      },
      "source": [
        "#@title define variables of $\\frac{du}{dx}|_j= \\frac{1}{h}(a_1 u_{j-1}+a_2 u_{j}+a_3 u_{j+1}+a_4 u_{j+2})+O(h^n)$\n",
        "vars = Matrix([a1,a2,a3,a4,1]); nvars = len(vars)-1 #n of unknowns\n",
        "coeffs=[-1,0,1,2,0]\n",
        "coeffs2=[1/h,1/h,1/h,1/h,-1]\n",
        "orders=[0,0,0,0,1]"
      ],
      "execution_count": 391,
      "outputs": []
    },
    {
      "cell_type": "code",
      "metadata": {
        "id": "nii-vl3evAao",
        "colab": {
          "base_uri": "https://localhost:8080/"
        },
        "outputId": "519897c4-7b7b-4e1d-9747-2dd0de169892"
      },
      "source": [
        "#@title calculate $result =[a_1,a_2,a_3,a_4]$ , form the equation, show  $lhs - rhs$\n",
        "result = discretize(vars,nvars,coeffs,coeffs2,orders)\n",
        "num = 6\n",
        "eq = f(x).diff(x,1) - equation(result,num,coeffs,coeffs2,orders) \n",
        "for i in range(num):\n",
        "  p = poly(eq,[f(x).diff(x,i)]); c = p.coeffs()\n",
        "  print(0 if len(c)==1 else c[0],\"f\"+\"'\"*i, end=' + ')\n"
      ],
      "execution_count": 392,
      "outputs": [
        {
          "output_type": "stream",
          "name": "stdout",
          "text": [
            "0 f + 0 f' + 0 f'' + 0 f''' + h**3/12 f'''' + h**4/30 f''''' + "
          ]
        }
      ]
    },
    {
      "cell_type": "markdown",
      "metadata": {
        "id": "U-uEENrNcAG0"
      },
      "source": [
        "the leading error term is $\\frac{h^3}{12}f''''_{xi}$ so the **order is $3$**"
      ]
    },
    {
      "cell_type": "markdown",
      "metadata": {
        "id": "5TPqyosJdUEk"
      },
      "source": [
        "### **Question 3**"
      ]
    },
    {
      "cell_type": "markdown",
      "metadata": {
        "id": "GQdepD53f5n7"
      },
      "source": [
        "the fourth-order pade scheme: $f'_{i-1}+f'_{i}+4f'_{i+1} = \\frac{3}{h}(f_{i+1}-f_{i-1})$\n",
        "\n",
        "$f_i = e^{ikx_i}⇒ik'(e^{ik(x_i-h)}+4e^{ikx_i}+e^{ik(x_i+h)}) = \\frac{3}{h}(e^{ik(x_i+h)}-e^{ik(x_i-h)})$\n",
        "\n",
        "$⇒ik'(e^{-ikh}+4+e^{ikh}) = \\frac{3}{h}(e^{ikh}-e^{-ikh})$\n",
        "\n",
        "$⇒ ik'(4+2cos(kh))=\\frac{3}{h}(2i sin(kh))$\n",
        "\n",
        "$⇒ k'=\\frac{3sin(kh)}{h(2+cos(kh))}$"
      ]
    },
    {
      "cell_type": "markdown",
      "metadata": {
        "id": "6O9f555MzMAE"
      },
      "source": [
        "### **Question 4**"
      ]
    },
    {
      "cell_type": "code",
      "metadata": {
        "id": "xZNoLmu9zXse"
      },
      "source": [
        "#@title define variables according to the equation \n",
        "vars = Matrix([a1,a2,a3,a4,1,1]); nvars = len(vars)-2 #n of unknowns\n",
        "coeffs=[0,1,2,3,0,1]\n",
        "coeffs2=[1/h,1/h,1/h,1/h,-1,-a]\n",
        "orders=[0,0,0,0,1,1]"
      ],
      "execution_count": 393,
      "outputs": []
    },
    {
      "cell_type": "markdown",
      "metadata": {
        "id": "vmXG_ZPgzQDD"
      },
      "source": [
        "<h3>4-a<h3>"
      ]
    },
    {
      "cell_type": "code",
      "metadata": {
        "colab": {
          "base_uri": "https://localhost:8080/"
        },
        "id": "9vhiI1xN0a69",
        "outputId": "791e9c4d-df12-480b-fb4f-aa449652792a"
      },
      "source": [
        "#@title calculate $result =[a,b,c,d]$ , form the equation, show  $lhs - rhs$\n",
        "result = discretize(vars,nvars,coeffs,coeffs2,orders)\n",
        "print('[a,b,c,d]=',result)\n",
        "num = 6\n",
        "eq = f(x).diff(x,1) + a*tay(1,num).diff(x,1) - equation(result,num,coeffs,coeffs2,orders) \n",
        "for i in range(num):\n",
        "  p = poly(eq,[f(x).diff(x,i)]); c = p.coeffs()\n",
        "  print(0 if len(c)==1 else c[0],\"f\"+\"'\"*i, end=' + ')\n"
      ],
      "execution_count": 394,
      "outputs": [
        {
          "output_type": "stream",
          "name": "stdout",
          "text": [
            "[a,b,c,d]= Matrix([[-a/3 - 11/6], [3 - a/2], [a - 3/2], [1/3 - a/6]])\n",
            "0 f + 0 f' + 0 f'' + 0 f''' + a*h**3/12 - h**3/4 f'''' + 7*a*h**4/60 - 3*h**4/10 f''''' + "
          ]
        }
      ]
    },
    {
      "cell_type": "markdown",
      "metadata": {
        "id": "IcL3esEL1sGH"
      },
      "source": [
        "$\\alpha=9$ would makes leading error term, $\\frac{\\alpha-9}{12}f''''_{xi}$ zero consequently the order of accuracy will be four"
      ]
    },
    {
      "cell_type": "markdown",
      "metadata": {
        "id": "QO2zTq8H2fbN"
      },
      "source": [
        "<h3>4-b<h3>"
      ]
    },
    {
      "cell_type": "code",
      "metadata": {
        "colab": {
          "base_uri": "https://localhost:8080/"
        },
        "id": "21XOxQX23AvT",
        "outputId": "f0b5b6c8-d59b-4b49-9abb-09a1e42a3aaa"
      },
      "source": [
        "#@title substitude $\\alpha$ with 9 as we concluded in 4-a\n",
        "resultsub = result.subs(a,9)\n",
        "print('[a,b,c,d]=',resultsub)"
      ],
      "execution_count": 395,
      "outputs": [
        {
          "output_type": "stream",
          "name": "stdout",
          "text": [
            "[a,b,c,d]= Matrix([[-29/6], [-3/2], [15/2], [-7/6]])\n"
          ]
        }
      ]
    },
    {
      "cell_type": "markdown",
      "metadata": {
        "id": "bZnqUHJ7712d"
      },
      "source": [
        "### **Question 6**"
      ]
    },
    {
      "cell_type": "markdown",
      "metadata": {
        "id": "js7nNbimGhmq"
      },
      "source": [
        "<h3> 6-a <h3>"
      ]
    },
    {
      "cell_type": "markdown",
      "metadata": {
        "id": "aT85uPso8Dhs"
      },
      "source": [
        "central difference scheme: $f''_{j} = \\frac{f_{j+1}-2f_{j} +f_{j-1}}{h^2}$\n",
        "\n",
        "$f_i = e^{ikx_i}⇒ -k'^2f_j = \\frac{f_{j}(e^{ikh}-2 +e^{-ikh})}{h^2}$\n",
        "\n",
        "$⇒ k'^2h^2 = -2(cos(kh)-1)$\n",
        "\n",
        "\n",
        "\n"
      ]
    },
    {
      "cell_type": "code",
      "metadata": {
        "colab": {
          "base_uri": "https://localhost:8080/",
          "height": 293
        },
        "id": "ixRM79z1-h8S",
        "outputId": "ec7fb6fa-86b1-4c46-c6d0-68df2f1779fc"
      },
      "source": [
        "#@title plot\n",
        "import matplotlib.pyplot as plt\n",
        "kh = np.linspace(0,3.1415,100)\n",
        "kh2 = kh**2\n",
        "kph2 = -2*(-1+np.cos(kh))\n",
        "plt.plot(kh,kh2)\n",
        "plt.plot(kh,kph2)\n",
        "plt.style.use('seaborn-whitegrid')\n",
        "plt.xlabel(\"kh\")\n",
        "plt.legend([\"$k^2h^2$\",\"$k'^2h^2$\"], prop={\"size\":20})"
      ],
      "execution_count": 396,
      "outputs": [
        {
          "output_type": "execute_result",
          "data": {
            "text/plain": [
              "<matplotlib.legend.Legend at 0x7fc28f570890>"
            ]
          },
          "metadata": {},
          "execution_count": 396
        },
        {
          "output_type": "display_data",
          "data": {
            "image/png": "[encoded data removed]",
            "text/plain": [
              "<Figure size 432x288 with 1 Axes>"
            ]
          },
          "metadata": {}
        }
      ]
    },
    {
      "cell_type": "markdown",
      "metadata": {
        "id": "va41ibX7G0ct"
      },
      "source": [
        "<h3> 6-b <h3>"
      ]
    },
    {
      "cell_type": "code",
      "metadata": {
        "id": "sW6bVAkkG8Xv"
      },
      "source": [
        "#@title define variables according to the equation \n",
        "vars = Matrix([1,-2,1,1,1,1]); nvars = len(vars)-2 #n of unknowns\n",
        "coeffs=[-1,0,1,-1,0,1]\n",
        "coeffs2=[1/h**2,1/h**2,1/h**2,-1/12,-10/12,-1/12]\n",
        "orders=[0,0,0,2,2,2]"
      ],
      "execution_count": 397,
      "outputs": []
    },
    {
      "cell_type": "code",
      "metadata": {
        "colab": {
          "base_uri": "https://localhost:8080/"
        },
        "id": "lV3Ol8WtG-hR",
        "outputId": "02247a93-b2e7-4869-9e0f-5e14373f0ef6"
      },
      "source": [
        "#@title form the equation, show  $lhs - rhs$\n",
        "num = 7\n",
        "eq = equation(vars,num,coeffs,coeffs2,orders) \n",
        "for i in range(num):\n",
        "  p = poly(eq,[f(x).diff(x,i)]); c = p.coeffs()\n",
        "  print(0 if len(c)==1 else c[0],\"f\"+\"'\"*i, end=' + ')\n"
      ],
      "execution_count": 398,
      "outputs": [
        {
          "output_type": "stream",
          "name": "stdout",
          "text": [
            "0 f + 0 f' + 0 f'' + 0 f''' + 0 f'''' + 0 f''''' + -0.00416666666666667*h**4 f'''''' + "
          ]
        }
      ]
    },
    {
      "cell_type": "markdown",
      "metadata": {
        "id": "_gfyEWOfIbiX"
      },
      "source": [
        "the leading error term is $\\frac{25h^{4}}{6000}f''''_{xi}$ so the **order is $4$**"
      ]
    },
    {
      "cell_type": "markdown",
      "metadata": {
        "id": "TjPqeEFAOm1a"
      },
      "source": [
        "<h3> 6-c <h3>"
      ]
    },
    {
      "cell_type": "markdown",
      "metadata": {
        "id": "TADJNjPfJPXd"
      },
      "source": [
        "the fourth-order pade scheme: $\\frac{1}{12}f''_{i-1}+\\frac{10}{12}f''_{i}+\\frac{1}{12}f'_{i+1} = \\frac{f_{i+1}-2f_i+f_{i-1}}{h^2}$\n",
        "\n",
        "$f_i = e^{ikx_i}⇒-k'^2(\\frac{1}{12}e^{-ikh}+\\frac{10}{12}+\\frac{1}{12}e^{ikh})f_i = (\\frac{e^{ikh}-2+e^{-ikh}}{h^2})f_i$\n",
        "\n",
        "$⇒ -k'^2(\\frac{2}{12}cos(kh)+\\frac{10}{12}) = \\frac{2cos(kh)-2}{h^2}$\n",
        "\n",
        "$⇒ k'^2h^2 = \\frac{1-cos(kh)}{\\frac{1}{12}cos(kh)+\\frac{5}{12}}$"
      ]
    },
    {
      "cell_type": "code",
      "metadata": {
        "colab": {
          "base_uri": "https://localhost:8080/",
          "height": 293
        },
        "id": "baXSkU-lMJoJ",
        "outputId": "c667d020-e87a-43b5-9b97-be3a4066e920"
      },
      "source": [
        "#@title plot\n",
        "import matplotlib.pyplot as plt\n",
        "kh = np.linspace(0,3.1415,100)\n",
        "kh2 = kh**2\n",
        "kph2pade = (1-np.cos(kh))/(1/12*np.cos(kh)+5/12)\n",
        "kph2central = -2*(-1+np.cos(kh))\n",
        "plt.plot(kh,kh2)\n",
        "plt.plot(kh,kph2pade)\n",
        "plt.plot(kh,kph2central)\n",
        "plt.style.use('seaborn-whitegrid')\n",
        "plt.xlabel(\"kh\")\n",
        "plt.legend([\"$k^2h^2$\",\"$k'^2h^2$ pade 4th\",\"$k'^2h^2$ central\"], prop={\"size\":20})"
      ],
      "execution_count": 399,
      "outputs": [
        {
          "output_type": "execute_result",
          "data": {
            "text/plain": [
              "<matplotlib.legend.Legend at 0x7fc28f4cbdd0>"
            ]
          },
          "metadata": {},
          "execution_count": 399
        },
        {
          "output_type": "display_data",
          "data": {
            "image/png": "[encoded data removed]",
            "text/plain": [
              "<Figure size 432x288 with 1 Axes>"
            ]
          },
          "metadata": {}
        }
      ]
    },
    {
      "cell_type": "markdown",
      "metadata": {
        "id": "H3NDfGRkPCwB"
      },
      "source": [
        "<h3> 6-d <h3>"
      ]
    },
    {
      "cell_type": "markdown",
      "metadata": {
        "id": "pk6D9LwMTnYZ"
      },
      "source": [
        "$ k'^2h^2 = \\frac{1-cos(kh)}{\\frac{1}{12}cos(kh)+\\frac{5}{12}}$\n",
        "\n",
        "$ cos(x) = 1-\\frac{x^2}{2}+\\frac{x^4}{24}+O(x^6) ⇒ k'^2h^2 = \\frac{\\frac{k^2h^2}{2}-\\frac{k^4h^4}{24}+O(k^6h^6)}{\\frac{1}{2}-\\frac{k^2h^2}{24}+O(K^4h^4)}$\n",
        "\n",
        "$ ∴ k'^2h^2 - k^2h^2 = \\frac{O(k^6h^6)}{\\frac{1}{2}-\\frac{k^2h^2}{24}+O(K^4h^4)}= O(k^6h^6)$\n",
        "\n",
        "$k'^2h^2 = \\frac{\\frac{k^2h^2}{2}-\\frac{k^4h^4}{24}+O(k^6h^6)}{\\frac{1}{2}-\\frac{k^2h^2}{24}+O(K^4h^4)} ⇒ \\lim_{kh\\to0} k'^2h^2 = k^2h^2$ \n",
        "\n",
        "$∴\\lim_{kh\\to0} \\frac{k'^2h^2}{k^2h^2} = \\frac{k^2h^2}{k^2h^2} = 1 $\n",
        "\n",
        "\n"
      ]
    },
    {
      "cell_type": "markdown",
      "metadata": {
        "id": "mETHWOEZbaWv"
      },
      "source": [
        "### **Question 8**"
      ]
    },
    {
      "cell_type": "markdown",
      "metadata": {
        "id": "P4eH7DXacDAd"
      },
      "source": [
        "<h3> 8-a <h3>"
      ]
    },
    {
      "cell_type": "code",
      "metadata": {
        "colab": {
          "base_uri": "https://localhost:8080/"
        },
        "id": "Fub70uIVIJU1",
        "outputId": "fb786487-2409-4078-a5e9-2b75830a7463"
      },
      "source": [
        "b2 = symbols('b2')\n",
        "vars = Matrix([a1,a2,a3,a4,b2,1]); nvars = len(vars)-1 #n of unknowns\n",
        "coeffs=[0.5,1.5,2.5,0,1.5,0.5]\n",
        "coeffs2=[1,1,1,1,-1,-1]\n",
        "orders=[0,0,0,1,2,2]\n",
        "ansl = discretize(vars,nvars,coeffs,coeffs2,orders)\n",
        "for i in range(nvars):\n",
        "  print(*vars[i,:], '=' ,ansl[i]*23)"
      ],
      "execution_count": 400,
      "outputs": [
        {
          "output_type": "stream",
          "name": "stdout",
          "text": [
            "a1 = -36.0/h**2\n",
            "a2 = 48.0/h**2\n",
            "a3 = -12.0/h**2\n",
            "a4 = -24.0/h\n",
            "b2 = -11.0000000000000\n"
          ]
        }
      ]
    },
    {
      "cell_type": "markdown",
      "metadata": {
        "id": "BgqJXZJlcGya"
      },
      "source": [
        "<h3> 8-b <h3>"
      ]
    },
    {
      "cell_type": "code",
      "metadata": {
        "colab": {
          "base_uri": "https://localhost:8080/"
        },
        "id": "IJoB06ZqW3Fe",
        "outputId": "7249fcd6-6363-4b4b-8ab3-252b8e90cbd1"
      },
      "source": [
        "b2 = symbols('b2')\n",
        "vars = Matrix([a1,a2,a3,a4,b2,1]); nvars = len(vars)-1 #n of unknowns\n",
        "coeffs=[0.5,1.5,2.5,3,1.5,0.5]\n",
        "coeffs2=[1,1,1,1,-1,-1]\n",
        "orders=[0,0,0,1,2,2]\n",
        "ansr = discretize(vars,nvars,coeffs,coeffs2,orders)\n",
        "for i in range(nvars):\n",
        "  print(*vars[i,:], '=' ,ansr[i])"
      ],
      "execution_count": 401,
      "outputs": [
        {
          "output_type": "stream",
          "name": "stdout",
          "text": [
            "a1 = 12.5217391304348/h**2\n",
            "a2 = -26.0869565217391/h**2\n",
            "a3 = 13.5652173913043/h**2\n",
            "a4 = -1.04347826086956/h\n",
            "b2 = 10.4782608695652\n"
          ]
        }
      ]
    },
    {
      "cell_type": "markdown",
      "metadata": {
        "id": "75pnE5LN2vvJ"
      },
      "source": [
        "<h3> 8-c-d <h3>"
      ]
    },
    {
      "cell_type": "code",
      "metadata": {
        "colab": {
          "base_uri": "https://localhost:8080/"
        },
        "id": "C59hAQUb1Z3d",
        "outputId": "a0e83ae3-2887-40bc-907c-a449dcac5c2c"
      },
      "source": [
        "b1,b2,b3 = symbols('b1,b2,b3')\n",
        "vars = Matrix([a1,a2,a3,b1,b2,1]); nvars = len(vars)-1 #n of unknowns\n",
        "coeffs=[0.5,1.5,2.5,0.5,1.5,2.5]\n",
        "coeffs2=[1,1,1,-1,-1,-1]\n",
        "orders=[0,0,0,2,2,2]\n",
        "ansm = discretize(vars,nvars,coeffs,coeffs2,orders)\n",
        "for i in range(nvars):\n",
        "  print(*vars[i,:], '=' ,ansm[i])"
      ],
      "execution_count": 402,
      "outputs": [
        {
          "output_type": "stream",
          "name": "stdout",
          "text": [
            "a1 = 12.0/h**2\n",
            "a2 = -24.0/h**2\n",
            "a3 = 12.0/h**2\n",
            "b1 = 1.00000000000000\n",
            "b2 = 10.0000000000000\n"
          ]
        }
      ]
    },
    {
      "cell_type": "code",
      "metadata": {
        "id": "ZxMDOSY7LZrn"
      },
      "source": [
        "def tdma(a,b,c,d):\n",
        "   \n",
        "    ac, bc, cc, dc = map(np.array, (a, b, c, d))\n",
        "    ne = len(d)\n",
        "    for i in range(1,ne):\n",
        "        bc[i] = bc[i] - ac[i]*(cc[i-1]/bc[i-1])\n",
        "        dc[i] = dc[i] - ac[i]*(dc[i-1]/bc[i-1])\n",
        "    uc = bc   \n",
        "    uc[-1] = dc[-1]/bc[-1]\n",
        "   \n",
        "    for i in range(ne-2,-1,-1):\n",
        "        uc[i] = (dc[i] - cc[i]*uc[i+1])/bc[i]\n",
        "   \n",
        "    del ac, bc, cc, dc\n",
        "\n",
        "    return uc"
      ],
      "execution_count": 403,
      "outputs": []
    },
    {
      "cell_type": "markdown",
      "metadata": {
        "id": "NkoJcEbKW5O2"
      },
      "source": [
        "exact solution considering boundary conditions:\n",
        "$y = \\frac{6cos(1)-3}{sin(1)}  +6sin(x) + x^3 - 6x$"
      ]
    },
    {
      "cell_type": "code",
      "metadata": {
        "colab": {
          "base_uri": "https://localhost:8080/",
          "height": 464
        },
        "id": "_z77H4ZlO36D",
        "outputId": "e54fe1fb-1d31-4abc-855a-6c1ffa9bdc45"
      },
      "source": [
        "#@title solve dicretized version of $\\frac{d^2y}{dx^2}+y = x^3$ by matrix inversion \n",
        "bgn = 0; fin = 1 \n",
        "size = 24; h = (fin-bgn)/size\n",
        "x = np.linspace(bgn+h/2,fin-h/2,size)\n",
        "A = np.zeros([size,size])\n",
        "B = np.zeros([size,size])\n",
        "C = np.zeros([size])\n",
        "\n",
        "# update A B C for the first/last row\n",
        "cl = 23*np.array([1,-11/23,0])\n",
        "cr = 23*np.array([-36/23,48/23,-12/23])\n",
        "A[0,0:3] = cl \n",
        "B[0,0:3] = cr \n",
        "C[0] = np.dot(cl,x[0:3]**3)\n",
        "cl = 23*np.array([0,-11/23,1])\n",
        "cr = 23*np.array([-12/23,48/23,-36/23])\n",
        "A[size-1,size-3:size] = cl\n",
        "B[size-1,size-3:size] = cr\n",
        "C[size-1] = np.dot(cl,x[size-3:size]**3)\n",
        "cl = np.array([1,10,1])\n",
        "cr = np.array([12,-24,12])\n",
        "for i in range(1,size-1):\n",
        "  A[i,i-1:i+2] = cl\n",
        "  B[i,i-1:i+2] = cr\n",
        "  C[i] = np.dot(cl,x[i-1:i+2]**3)\n",
        "solution = np.linalg.inv(A+B/h**2)@(C)\n",
        "plt.plot(x,solution,linewidth=7,color='lightgray')\n",
        "exact =  (6*np.cos(1)-3)/np.sin(1)*np.cos(x)\\\n",
        "          + 6*np.sin(x) + x**3 -6*x\n",
        "plt.plot(x,exact,'--',linewidth=2,color='blue')\n",
        "plt.legend([\"pade\",\"exact\"], prop={\"size\":20})\n",
        "\n",
        "from termcolor import colored\n",
        "print('first 5 row and column of A:\\n',colored(A[:5,:5],'green'))\n",
        "print('first 5 row and colomn of B:\\n',colored(B[:5,:5],'blue'),colored('/h**2','blue'))"
      ],
      "execution_count": 453,
      "outputs": [
        {
          "output_type": "stream",
          "name": "stdout",
          "text": [
            "first 5 row and column of A:\n",
            " \u001b[32m[[ 23. -11.   0.   0.   0.]\n",
            " [  1.  10.   1.   0.   0.]\n",
            " [  0.   1.  10.   1.   0.]\n",
            " [  0.   0.   1.  10.   1.]\n",
            " [  0.   0.   0.   1.  10.]]\u001b[0m\n",
            "first 5 row and colomn of B:\n",
            " \u001b[34m[[-36.  48. -12.   0.   0.]\n",
            " [ 12. -24.  12.   0.   0.]\n",
            " [  0.  12. -24.  12.   0.]\n",
            " [  0.   0.  12. -24.  12.]\n",
            " [  0.   0.   0.  12. -24.]]\u001b[0m \u001b[34m/h**2\u001b[0m\n"
          ]
        },
        {
          "output_type": "display_data",
          "data": {
            "image/png": "[encoded data removed]",
            "text/plain": [
              "<Figure size 432x288 with 1 Axes>"
            ]
          },
          "metadata": {}
        }
      ]
    },
    {
      "cell_type": "markdown",
      "metadata": {
        "id": "Get8PX31DIM0"
      },
      "source": [
        "I guess you don't need to use matrix inversion if you use thomas for the inner most diagonals and move the other two nonzero elements to the right hand side and guess some values for the y and in a iterative process like secant update the y until they converge to some certain value (solution)."
      ]
    }
  ]
}